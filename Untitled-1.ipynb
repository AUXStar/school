{
 "cells": [
  {
   "cell_type": "code",
   "execution_count": 1,
   "metadata": {},
   "outputs": [
    {
     "name": "stderr",
     "output_type": "stream",
     "text": [
      "d:\\code\\py\\school_backend\\.env\\Lib\\site-packages\\pony\\orm\\dbapiprovider.py:91: SyntaxWarning: invalid escape sequence '\\.'\n",
      "  version_re = re.compile('[0-9\\.]+')\n"
     ]
    },
    {
     "ename": "TypeError",
     "evalue": "No database converter found for type <enum 'OA_type'>",
     "output_type": "error",
     "traceback": [
      "\u001b[1;31m---------------------------------------------------------------------------\u001b[0m",
      "\u001b[1;31mTypeError\u001b[0m                                 Traceback (most recent call last)",
      "Cell \u001b[1;32mIn[1], line 9\u001b[0m\n\u001b[0;32m      7\u001b[0m sys\u001b[38;5;241m.\u001b[39mpath\u001b[38;5;241m.\u001b[39mappend(\u001b[38;5;124m'\u001b[39m\u001b[38;5;124mD:\u001b[39m\u001b[38;5;130;01m\\\\\u001b[39;00m\u001b[38;5;124mcode\u001b[39m\u001b[38;5;130;01m\\\\\u001b[39;00m\u001b[38;5;124mpy\u001b[39m\u001b[38;5;130;01m\\\\\u001b[39;00m\u001b[38;5;124mschool_backend\u001b[39m\u001b[38;5;130;01m\\\\\u001b[39;00m\u001b[38;5;124m'\u001b[39m)\n\u001b[0;32m      8\u001b[0m \u001b[38;5;28;01mfrom\u001b[39;00m \u001b[38;5;21;01mutils\u001b[39;00m\u001b[38;5;21;01m.\u001b[39;00m\u001b[38;5;21;01mdatabase\u001b[39;00m \u001b[38;5;28;01mimport\u001b[39;00m init_db\n\u001b[1;32m----> 9\u001b[0m \u001b[43minit_db\u001b[49m\u001b[43m(\u001b[49m\u001b[43m)\u001b[49m\n",
      "File \u001b[1;32mD:\\code\\py\\school_backend\\utils\\database.py:7\u001b[0m, in \u001b[0;36minit_db\u001b[1;34m()\u001b[0m\n\u001b[0;32m      5\u001b[0m instance \u001b[38;5;241m=\u001b[39m instance_tools\u001b[38;5;241m.\u001b[39mCURRENT_INSTANCE\n\u001b[0;32m      6\u001b[0m db\u001b[38;5;241m.\u001b[39mbind(instance\u001b[38;5;241m.\u001b[39mconfig\u001b[38;5;241m.\u001b[39mdb_connect)\n\u001b[1;32m----> 7\u001b[0m \u001b[43mdb\u001b[49m\u001b[38;5;241;43m.\u001b[39;49m\u001b[43mgenerate_mapping\u001b[49m\u001b[43m(\u001b[49m\u001b[43mcreate_tables\u001b[49m\u001b[38;5;241;43m=\u001b[39;49m\u001b[38;5;28;43;01mTrue\u001b[39;49;00m\u001b[43m)\u001b[49m\n",
      "File \u001b[1;32m<string>:2\u001b[0m, in \u001b[0;36mgenerate_mapping\u001b[1;34m(database, filename, check_tables, create_tables)\u001b[0m\n",
      "File \u001b[1;32md:\\code\\py\\school_backend\\.env\\Lib\\site-packages\\pony\\utils\\utils.py:75\u001b[0m, in \u001b[0;36mcut_traceback\u001b[1;34m(func, *args, **kwargs)\u001b[0m\n\u001b[0;32m     73\u001b[0m     module_name \u001b[38;5;241m=\u001b[39m tb\u001b[38;5;241m.\u001b[39mtb_frame\u001b[38;5;241m.\u001b[39mf_globals\u001b[38;5;241m.\u001b[39mget(\u001b[38;5;124m'\u001b[39m\u001b[38;5;124m__name__\u001b[39m\u001b[38;5;124m'\u001b[39m) \u001b[38;5;129;01mor\u001b[39;00m \u001b[38;5;124m'\u001b[39m\u001b[38;5;124m'\u001b[39m\n\u001b[0;32m     74\u001b[0m     \u001b[38;5;28;01mif\u001b[39;00m module_name\u001b[38;5;241m.\u001b[39mstartswith(\u001b[38;5;124m'\u001b[39m\u001b[38;5;124mpony.utils\u001b[39m\u001b[38;5;124m'\u001b[39m) \u001b[38;5;129;01mand\u001b[39;00m tb\u001b[38;5;241m.\u001b[39mtb_frame\u001b[38;5;241m.\u001b[39mf_code\u001b[38;5;241m.\u001b[39mco_name \u001b[38;5;241m==\u001b[39m \u001b[38;5;124m'\u001b[39m\u001b[38;5;124mthrow\u001b[39m\u001b[38;5;124m'\u001b[39m:\n\u001b[1;32m---> 75\u001b[0m         \u001b[43mreraise\u001b[49m\u001b[43m(\u001b[49m\u001b[43mexc_type\u001b[49m\u001b[43m,\u001b[49m\u001b[43m \u001b[49m\u001b[43mexc\u001b[49m\u001b[43m,\u001b[49m\u001b[43m \u001b[49m\u001b[43mlast_pony_tb\u001b[49m\u001b[43m)\u001b[49m\n\u001b[0;32m     76\u001b[0m     reraise(exc_type, exc, full_tb)\n\u001b[0;32m     77\u001b[0m \u001b[38;5;28;01mfinally\u001b[39;00m:\n",
      "File \u001b[1;32md:\\code\\py\\school_backend\\.env\\Lib\\site-packages\\pony\\utils\\utils.py:88\u001b[0m, in \u001b[0;36mreraise\u001b[1;34m(***failed resolving arguments***)\u001b[0m\n\u001b[0;32m     87\u001b[0m \u001b[38;5;28;01mdef\u001b[39;00m \u001b[38;5;21mreraise\u001b[39m(exc_type, exc, tb):\n\u001b[1;32m---> 88\u001b[0m     \u001b[38;5;28;01mtry\u001b[39;00m: \u001b[38;5;28;01mraise\u001b[39;00m exc\u001b[38;5;241m.\u001b[39mwith_traceback(tb)\n\u001b[0;32m     89\u001b[0m     \u001b[38;5;28;01mfinally\u001b[39;00m: \u001b[38;5;28;01mdel\u001b[39;00m exc, tb\n",
      "File \u001b[1;32md:\\code\\py\\school_backend\\.env\\Lib\\site-packages\\pony\\orm\\dbapiprovider.py:296\u001b[0m, in \u001b[0;36mDBAPIProvider._get_converter_type_by_py_type\u001b[1;34m(provider, py_type)\u001b[0m\n\u001b[0;32m    294\u001b[0m \u001b[38;5;28;01mif\u001b[39;00m \u001b[38;5;28misinstance\u001b[39m(py_type, RawSQLType):\n\u001b[0;32m    295\u001b[0m     \u001b[38;5;28;01mreturn\u001b[39;00m Converter  \u001b[38;5;66;03m# for cases like select(raw_sql(...) for x in X)\u001b[39;00m\n\u001b[1;32m--> 296\u001b[0m \u001b[43mthrow\u001b[49m\u001b[43m(\u001b[49m\u001b[38;5;167;43;01mTypeError\u001b[39;49;00m\u001b[43m,\u001b[49m\u001b[43m \u001b[49m\u001b[38;5;124;43m'\u001b[39;49m\u001b[38;5;124;43mNo database converter found for type \u001b[39;49m\u001b[38;5;132;43;01m%s\u001b[39;49;00m\u001b[38;5;124;43m'\u001b[39;49m\u001b[43m \u001b[49m\u001b[38;5;241;43m%\u001b[39;49m\u001b[43m \u001b[49m\u001b[43mpy_type\u001b[49m\u001b[43m)\u001b[49m\n",
      "File \u001b[1;32md:\\code\\py\\school_backend\\.env\\Lib\\site-packages\\pony\\utils\\utils.py:101\u001b[0m, in \u001b[0;36mthrow\u001b[1;34m(exc_type, *args, **kwargs)\u001b[0m\n\u001b[0;32m     99\u001b[0m         \u001b[38;5;28;01mraise\u001b[39;00m exc\n\u001b[0;32m    100\u001b[0m     \u001b[38;5;28;01melse\u001b[39;00m:\n\u001b[1;32m--> 101\u001b[0m         \u001b[38;5;28;01mraise\u001b[39;00m exc  \u001b[38;5;66;03m# Set \"pony.options.CUT_TRACEBACK = False\" to see full traceback\u001b[39;00m\n\u001b[0;32m    102\u001b[0m \u001b[38;5;28;01mfinally\u001b[39;00m: \u001b[38;5;28;01mdel\u001b[39;00m exc\n",
      "\u001b[1;31mTypeError\u001b[0m: No database converter found for type <enum 'OA_type'>"
     ]
    }
   ],
   "source": [
    "from utils.instance_tools import Instance\n",
    "import os\n",
    "os.chdir('D:\\\\code\\\\py\\\\school_backend\\\\')\n",
    "instance = Instance('instance1')\n",
    "import sys\n",
    "import os\n",
    "sys.path.append('D:\\\\code\\\\py\\\\school_backend\\\\')\n",
    "from utils.database import init_db\n",
    "init_db()"
   ]
  },
  {
   "cell_type": "code",
   "execution_count": 2,
   "metadata": {},
   "outputs": [],
   "source": [
    "from models import time_slot,subject,school_class,role,user\n",
    "from pony.orm import db_session,select"
   ]
  },
  {
   "cell_type": "code",
   "execution_count": 3,
   "metadata": {},
   "outputs": [],
   "source": [
    "from json import load\n",
    "\n",
    "data = load(open(\"data.json\",encoding=\"utf-8\"))"
   ]
  },
  {
   "cell_type": "code",
   "execution_count": 4,
   "metadata": {},
   "outputs": [],
   "source": [
    "with db_session:\n",
    "    for d in data['subjects']:\n",
    "        subject.Subject(name=d['name'],\n",
    "                        tags=subject.SubjectTag.instance(d['tags'][0]))\n",
    "\n",
    "with db_session:\n",
    "    for d in data['teachers']:\n",
    "        t = user.User(realname=d['realname'],\n",
    "                  username=d['username'],\n",
    "                  password=d['username'],\n",
    "                  id_card=d['id_card'],\n",
    "                  gender=d['gender']\n",
    "                  )\n",
    "        role.Teacher(user=t,\n",
    "                     subject=[subject.Subject.get(name=d['subject'])])\n",
    "        \n",
    "with db_session:\n",
    "    for d in data['students']:\n",
    "        s = user.User(realname=d['realname'],\n",
    "                  username=d['username'],\n",
    "                  password=d['username'],\n",
    "                  id_card=d['id_card'],\n",
    "                  gender=d['gender']\n",
    "                  )\n",
    "        \n",
    "        role.Student(user=s)"
   ]
  },
  {
   "cell_type": "code",
   "execution_count": 5,
   "metadata": {},
   "outputs": [],
   "source": [
    "with db_session:\n",
    "    for d in data['school_class']:\n",
    "        school_class.SchoolClass(name=d['name'],\n",
    "                                 grade=d['grade'],\n",
    "                                 number=d['number'],\n",
    "                                 class_teacher=role.Teacher.get(user=user.User.get(username=d['class_teacher'])),\n",
    "                                 )\n"
   ]
  },
  {
   "cell_type": "code",
   "execution_count": 8,
   "metadata": {},
   "outputs": [],
   "source": [
    "# with db_session:\n",
    "#     table1 = time_slot.TimeSlotTable(school_class=1)\n",
    "#     week1 = time_slot.TimeSlotWeek.instance(0,1)\n",
    "#     time1 = time_slot.TimeSlotTime.instance(\"1:00\",\"1:45\")\n",
    "# with db_session:\n",
    "#     act = time_slot.Activity(time_slot_time=1,\n",
    "#     time_slot_week = 1,\n",
    "#     time_slot_table = 1,\n",
    "#     subject = 1)"
   ]
  },
  {
   "cell_type": "code",
   "execution_count": 8,
   "metadata": {},
   "outputs": [
    {
     "name": "stdout",
     "output_type": "stream",
     "text": [
      "id|user   \n",
      "--+-------\n",
      "1 |User[5]\n",
      "2 |User[6]\n",
      "3 |User[7]\n"
     ]
    }
   ],
   "source": [
    "with db_session:\n",
    "    select(u for u in role.Student).show()"
   ]
  },
  {
   "cell_type": "code",
   "execution_count": 6,
   "metadata": {},
   "outputs": [],
   "source": [
    "from utils.permission import init_permission\n",
    "init_permission()"
   ]
  },
  {
   "cell_type": "code",
   "execution_count": 7,
   "metadata": {},
   "outputs": [],
   "source": [
    "from models import permission_group"
   ]
  },
  {
   "cell_type": "code",
   "execution_count": 12,
   "metadata": {},
   "outputs": [],
   "source": [
    "with db_session:\n",
    "    for u in select(u.user for u in role.Student):\n",
    "        u.permission_groups.add(permission_group.PermissionGroup.get(name='student'))"
   ]
  },
  {
   "cell_type": "code",
   "execution_count": 1,
   "metadata": {},
   "outputs": [],
   "source": [
    "from server.routers.user import RegisterData"
   ]
  },
  {
   "cell_type": "code",
   "execution_count": 5,
   "metadata": {},
   "outputs": [
    {
     "data": {
      "text/plain": [
       "RegisterData(username='njzy', password='wjy080419', realname='aaa', id_card='62072220080419001X', phone=15393616608, is_male=True)"
      ]
     },
     "execution_count": 5,
     "metadata": {},
     "output_type": "execute_result"
    }
   ],
   "source": [
    "RegisterData(username=\"njzy\",\n",
    "    password='wjy080419',\n",
    "    realname='aaa',\n",
    "    id_card='62072220080419001X',\n",
    "    phone=15393616608,\n",
    "    is_male=True)"
   ]
  }
 ],
 "metadata": {
  "kernelspec": {
   "display_name": ".env",
   "language": "python",
   "name": "python3"
  },
  "language_info": {
   "codemirror_mode": {
    "name": "ipython",
    "version": 3
   },
   "file_extension": ".py",
   "mimetype": "text/x-python",
   "name": "python",
   "nbconvert_exporter": "python",
   "pygments_lexer": "ipython3",
   "version": "3.12.6"
  }
 },
 "nbformat": 4,
 "nbformat_minor": 2
}
