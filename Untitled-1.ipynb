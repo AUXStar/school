{
 "cells": [
  {
   "cell_type": "code",
   "execution_count": 1,
   "metadata": {},
   "outputs": [],
   "source": [
    "from utils.instance_tools import Instance\n",
    "import os\n",
    "os.chdir('D:\\\\code\\\\school_backend\\\\')\n",
    "instance = Instance('instance1')\n",
    "import sys\n",
    "import os\n",
    "sys.path.append('D:\\\\code\\\\school_backend\\\\')\n",
    "from utils.database import init_db\n",
    "init_db()"
   ]
  },
  {
   "cell_type": "code",
   "execution_count": 2,
   "metadata": {},
   "outputs": [],
   "source": [
    "from models import time_slot,subject,school_class,role,user\n",
    "from pony.orm import db_session,select"
   ]
  },
  {
   "cell_type": "code",
   "execution_count": 3,
   "metadata": {},
   "outputs": [],
   "source": [
    "from json import load\n",
    "\n",
    "data = load(open(\"data.json\",encoding=\"utf-8\"))"
   ]
  },
  {
   "cell_type": "code",
   "execution_count": 4,
   "metadata": {},
   "outputs": [],
   "source": [
    "with db_session:\n",
    "    for d in data['subjects']:\n",
    "        subject.Subject(name=d['name'],\n",
    "                        tags=subject.SubjectTag.instance(d['tags'][0]))\n",
    "\n",
    "with db_session:\n",
    "    for d in data['teachers']:\n",
    "        t = user.User(realname=d['realname'],\n",
    "                  username=d['username'],\n",
    "                  password=d['username'],\n",
    "                  id_card=d['id_card'],\n",
    "                  gender=d['gender']\n",
    "                  )\n",
    "        role.Teacher(user=t,\n",
    "                     subject=[subject.Subject.get(name=d['subject'])])\n",
    "        \n",
    "with db_session:\n",
    "    for d in data['students']:\n",
    "        s = user.User(realname=d['realname'],\n",
    "                  username=d['username'],\n",
    "                  password=d['username'],\n",
    "                  id_card=d['id_card'],\n",
    "                  gender=d['gender']\n",
    "                  )\n",
    "        \n",
    "        role.Student(user=s)"
   ]
  },
  {
   "cell_type": "code",
   "execution_count": 5,
   "metadata": {},
   "outputs": [],
   "source": [
    "with db_session:\n",
    "    for d in data['school_class']:\n",
    "        school_class.SchoolClass(name=d['name'],\n",
    "                                 grade=d['grade'],\n",
    "                                 number=d['number'],\n",
    "                                 class_teacher=role.Teacher.get(user=user.User.get(username=d['class_teacher'])),\n",
    "                                 )\n"
   ]
  },
  {
   "cell_type": "code",
   "execution_count": 8,
   "metadata": {},
   "outputs": [],
   "source": [
    "# with db_session:\n",
    "#     table1 = time_slot.TimeSlotTable(school_class=1)\n",
    "#     week1 = time_slot.TimeSlotWeek.instance(0,1)\n",
    "#     time1 = time_slot.TimeSlotTime.instance(\"1:00\",\"1:45\")\n",
    "# with db_session:\n",
    "#     act = time_slot.Activity(time_slot_time=1,\n",
    "#     time_slot_week = 1,\n",
    "#     time_slot_table = 1,\n",
    "#     subject = 1)"
   ]
  },
  {
   "cell_type": "code",
   "execution_count": 8,
   "metadata": {},
   "outputs": [
    {
     "name": "stdout",
     "output_type": "stream",
     "text": [
      "id|user   \n",
      "--+-------\n",
      "1 |User[5]\n",
      "2 |User[6]\n",
      "3 |User[7]\n"
     ]
    }
   ],
   "source": [
    "with db_session:\n",
    "    select(u for u in role.Student).show()"
   ]
  },
  {
   "cell_type": "code",
   "execution_count": 6,
   "metadata": {},
   "outputs": [],
   "source": [
    "from utils.permission import init_permission\n",
    "init_permission()"
   ]
  },
  {
   "cell_type": "code",
   "execution_count": 7,
   "metadata": {},
   "outputs": [],
   "source": [
    "from models import permission_group"
   ]
  },
  {
   "cell_type": "code",
   "execution_count": 12,
   "metadata": {},
   "outputs": [],
   "source": [
    "with db_session:\n",
    "    for u in select(u.user for u in role.Student):\n",
    "        u.permission_groups.add(permission_group.PermissionGroup.get(name='student'))"
   ]
  }
 ],
 "metadata": {
  "kernelspec": {
   "display_name": ".env",
   "language": "python",
   "name": "python3"
  },
  "language_info": {
   "codemirror_mode": {
    "name": "ipython",
    "version": 3
   },
   "file_extension": ".py",
   "mimetype": "text/x-python",
   "name": "python",
   "nbconvert_exporter": "python",
   "pygments_lexer": "ipython3",
   "version": "3.12.6"
  }
 },
 "nbformat": 4,
 "nbformat_minor": 2
}
