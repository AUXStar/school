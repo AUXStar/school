{
 "cells": [
  {
   "cell_type": "code",
   "execution_count": 1,
   "metadata": {},
   "outputs": [],
   "source": [
    "from utils.instance_tools import Instance\n",
    "instance = Instance('instance1')\n",
    "import sys\n",
    "import os\n",
    "sys.path.append('D:\\\\code\\\\py\\\\school_backend\\\\')\n",
    "from utils.database import init_db\n",
    "init_db()"
   ]
  },
  {
   "cell_type": "code",
   "execution_count": 12,
   "metadata": {},
   "outputs": [],
   "source": [
    "from models import time_slot,subject,school_class,role,user\n",
    "from pony.orm import db_session,select"
   ]
  },
  {
   "cell_type": "code",
   "execution_count": 3,
   "metadata": {},
   "outputs": [],
   "source": [
    "with db_session:\n",
    "    njzy = user.User(\n",
    "            username=\"njzy\",\n",
    "            password=\"njzy\",\n",
    "            realname=\"njzy\")\n",
    "    njzy1 = user.User(\n",
    "            username=\"njzy1\",\n",
    "            password=\"njzy1\",\n",
    "            realname=\"njzy1\")\n",
    "    sfd = user.User(\n",
    "            username=\"sfd\",\n",
    "            password=\"sfd\",\n",
    "            realname=\"sfd\")\n",
    "    student_njzy = role.Student(user=njzy)\n",
    "    student_njzy1 = role.Student(user=njzy1)\n",
    "    teacher_sfd = role.Teacher(user=sfd)\n",
    "    class47=school_class.SchoolClass(\n",
    "    name = \"高一47\",\n",
    "    grade = 1,\n",
    "    number = 47,\n",
    "    students = [student_njzy,student_njzy1],\n",
    "    teachers = [teacher_sfd],\n",
    "    main_teacher = teacher_sfd)"
   ]
  },
  {
   "cell_type": "code",
   "execution_count": 4,
   "metadata": {},
   "outputs": [],
   "source": [
    "with db_session:\n",
    "    tagW = subject.SubjectTag.instance(\"文科\")\n",
    "    tagL = subject.SubjectTag.instance(\"理科\")\n",
    "    math = subject.Subject(teacher=1,name=\"数学\",tags=tagL)\n",
    "    chinese = subject.Subject(teacher=1,name=\"语文\",tags=tagW)"
   ]
  },
  {
   "cell_type": "code",
   "execution_count": 8,
   "metadata": {},
   "outputs": [],
   "source": [
    "# with db_session:\n",
    "#     table1 = time_slot.TimeSlotTable(school_class=1)\n",
    "#     week1 = time_slot.TimeSlotWeek.instance(0,1)\n",
    "#     time1 = time_slot.TimeSlotTime.instance(\"1:00\",\"1:45\")\n",
    "with db_session:\n",
    "    act = time_slot.Activity(time_slot_time=1,\n",
    "    time_slot_week = 1,\n",
    "    time_slot_table = 1,\n",
    "    subject = 1)"
   ]
  },
  {
   "cell_type": "code",
   "execution_count": 20,
   "metadata": {},
   "outputs": [
    {
     "name": "stdout",
     "output_type": "stream",
     "text": [
      "tst.time_slot_time.start_time|tst.time_slot_week.week_day\n",
      "-----------------------------+---------------------------\n",
      "01:00:00                     |1                          \n"
     ]
    }
   ],
   "source": [
    "with db_session:\n",
    "    select((tst.time_slot_time.start_time,tst.time_slot_week.week_day) for tst in school_class.SchoolClass[1].time_slot_table.activities).show()"
   ]
  }
 ],
 "metadata": {
  "kernelspec": {
   "display_name": ".env",
   "language": "python",
   "name": "python3"
  },
  "language_info": {
   "codemirror_mode": {
    "name": "ipython",
    "version": 3
   },
   "file_extension": ".py",
   "mimetype": "text/x-python",
   "name": "python",
   "nbconvert_exporter": "python",
   "pygments_lexer": "ipython3",
   "version": "3.12.6"
  }
 },
 "nbformat": 4,
 "nbformat_minor": 2
}
